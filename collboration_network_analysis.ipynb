{
 "cells": [
  {
   "cell_type": "markdown",
   "metadata": {},
   "source": [
    "# Import libraries"
   ]
  },
  {
   "cell_type": "code",
   "execution_count": 2,
   "metadata": {},
   "outputs": [],
   "source": [
    "import os\n",
    "import pandas as pd\n",
    "import numpy as np\n",
    "import seaborn as sns\n",
    "import matplotlib.pyplot as plt\n",
    "%matplotlib inline\n",
    "\n",
    "# Module for conducting repeated-measure tests\n",
    "from scipy.stats import wilcoxon\n",
    "import statsmodels.api as sm\n",
    "import pylab as py \n",
    "\n",
    "# Modules for author colloboration\n",
    "import ast\n",
    "import networkx as nx\n",
    "import pickle\n",
    "\n",
    "# Ignore warning messages (only) for display purpose\n",
    "import warnings\n",
    "warnings.filterwarnings('ignore')"
   ]
  },
  {
   "cell_type": "markdown",
   "metadata": {},
   "source": [
    "# Read Data"
   ]
  },
  {
   "cell_type": "code",
   "execution_count": 3,
   "metadata": {},
   "outputs": [
    {
     "data": {
      "text/html": [
       "<div>\n",
       "<style scoped>\n",
       "    .dataframe tbody tr th:only-of-type {\n",
       "        vertical-align: middle;\n",
       "    }\n",
       "\n",
       "    .dataframe tbody tr th {\n",
       "        vertical-align: top;\n",
       "    }\n",
       "\n",
       "    .dataframe thead th {\n",
       "        text-align: right;\n",
       "    }\n",
       "</style>\n",
       "<table border=\"1\" class=\"dataframe\">\n",
       "  <thead>\n",
       "    <tr style=\"text-align: right;\">\n",
       "      <th></th>\n",
       "      <th>first_name</th>\n",
       "      <th>middle_name</th>\n",
       "      <th>last_name</th>\n",
       "      <th>email</th>\n",
       "      <th>institution</th>\n",
       "      <th>award_year</th>\n",
       "      <th>award_amount</th>\n",
       "      <th>paper_title</th>\n",
       "      <th>journal</th>\n",
       "      <th>publication_year</th>\n",
       "      <th>...</th>\n",
       "      <th>citation_2019</th>\n",
       "      <th>citation_2020</th>\n",
       "      <th>citation_2021</th>\n",
       "      <th>citation_2022</th>\n",
       "      <th>citation_2023</th>\n",
       "      <th>citation_2024</th>\n",
       "      <th>tokenized_title</th>\n",
       "      <th>normalized_title</th>\n",
       "      <th>tokenized_abstract</th>\n",
       "      <th>normalized_abstract</th>\n",
       "    </tr>\n",
       "  </thead>\n",
       "  <tbody>\n",
       "    <tr>\n",
       "      <th>0</th>\n",
       "      <td>Talal</td>\n",
       "      <td>NaN</td>\n",
       "      <td>Asad</td>\n",
       "      <td>talalasad@earthlink.net</td>\n",
       "      <td>cuny graduate school university center</td>\n",
       "      <td>2011</td>\n",
       "      <td>19901</td>\n",
       "      <td>Effect of oxidation and geometrical dimensions...</td>\n",
       "      <td>Desalination</td>\n",
       "      <td>2011</td>\n",
       "      <td>...</td>\n",
       "      <td>13</td>\n",
       "      <td>5</td>\n",
       "      <td>10</td>\n",
       "      <td>5</td>\n",
       "      <td>7</td>\n",
       "      <td>1</td>\n",
       "      <td>['Effect', 'of', 'oxidation', 'and', 'geometri...</td>\n",
       "      <td>['effect', 'oxidation', 'geometrical', 'dimens...</td>\n",
       "      <td>['This', 'study', 'reports', 'for', 'the', 'fi...</td>\n",
       "      <td>['study', 'report', 'time', 'use', 'oxidize', ...</td>\n",
       "    </tr>\n",
       "    <tr>\n",
       "      <th>1</th>\n",
       "      <td>Talal</td>\n",
       "      <td>NaN</td>\n",
       "      <td>Asad</td>\n",
       "      <td>talalasad@earthlink.net</td>\n",
       "      <td>cuny graduate school university center</td>\n",
       "      <td>2011</td>\n",
       "      <td>19901</td>\n",
       "      <td>Synthesis and biological evaluation of new pyr...</td>\n",
       "      <td>Molecules</td>\n",
       "      <td>2014</td>\n",
       "      <td>...</td>\n",
       "      <td>13</td>\n",
       "      <td>5</td>\n",
       "      <td>10</td>\n",
       "      <td>5</td>\n",
       "      <td>7</td>\n",
       "      <td>1</td>\n",
       "      <td>['Synthesis', 'and', 'biological', 'evaluation...</td>\n",
       "      <td>['synthesis', 'biological', 'evaluation', 'new...</td>\n",
       "      <td>['A', 'selected', 'set', 'of', 'substituted', ...</td>\n",
       "      <td>['select', 'set', 'substituted', 'pyridone', '...</td>\n",
       "    </tr>\n",
       "    <tr>\n",
       "      <th>2</th>\n",
       "      <td>Talal</td>\n",
       "      <td>NaN</td>\n",
       "      <td>Asad</td>\n",
       "      <td>talalasad@earthlink.net</td>\n",
       "      <td>cuny graduate school university center</td>\n",
       "      <td>2011</td>\n",
       "      <td>19901</td>\n",
       "      <td>Synthesis of 6-Ethyl-1, 2, 9-trioxopyrrolo [3,...</td>\n",
       "      <td>Zeitschrift für Naturforschung B</td>\n",
       "      <td>2013</td>\n",
       "      <td>...</td>\n",
       "      <td>13</td>\n",
       "      <td>5</td>\n",
       "      <td>10</td>\n",
       "      <td>5</td>\n",
       "      <td>7</td>\n",
       "      <td>1</td>\n",
       "      <td>['Synthesis', 'of', '6', 'Ethyl-1', '2', '9', ...</td>\n",
       "      <td>['synthesis', 'ethyl-1', 'trioxopyrrolo', 'f',...</td>\n",
       "      <td>['Interaction', 'of', '6', 'amino-1', 'ethyl-4...</td>\n",
       "      <td>['interaction', 'amino-1', 'ethyl-4', 'oxoquin...</td>\n",
       "    </tr>\n",
       "    <tr>\n",
       "      <th>3</th>\n",
       "      <td>Talal</td>\n",
       "      <td>NaN</td>\n",
       "      <td>Asad</td>\n",
       "      <td>talalasad@earthlink.net</td>\n",
       "      <td>cuny graduate school university center</td>\n",
       "      <td>2011</td>\n",
       "      <td>19901</td>\n",
       "      <td>Randa M. Al-As’ ada, Mustafa M. El-abadelaha, ...</td>\n",
       "      <td>Z. Naturforsch</td>\n",
       "      <td>2013</td>\n",
       "      <td>...</td>\n",
       "      <td>13</td>\n",
       "      <td>5</td>\n",
       "      <td>10</td>\n",
       "      <td>5</td>\n",
       "      <td>7</td>\n",
       "      <td>1</td>\n",
       "      <td>['Randa', 'M.', 'Al', 'As', 'ada', 'Mustafa', ...</td>\n",
       "      <td>['randa', 'm.', 'al', 'ada', 'mustafa', 'm.', ...</td>\n",
       "      <td>['Interaction', 'of', '6', 'amino-1', 'ethyl-4...</td>\n",
       "      <td>['interaction', 'amino-1', 'ethyl-4', 'oxoquin...</td>\n",
       "    </tr>\n",
       "    <tr>\n",
       "      <th>4</th>\n",
       "      <td>Leaf</td>\n",
       "      <td>NaN</td>\n",
       "      <td>Van Boven</td>\n",
       "      <td>vanboven@colorado.edu</td>\n",
       "      <td>university of colorado at boulder</td>\n",
       "      <td>2011</td>\n",
       "      <td>250000</td>\n",
       "      <td>Identifiable but not identical: Combining soci...</td>\n",
       "      <td>Journal of Consumer research</td>\n",
       "      <td>2012</td>\n",
       "      <td>...</td>\n",
       "      <td>868</td>\n",
       "      <td>1234</td>\n",
       "      <td>1132</td>\n",
       "      <td>1198</td>\n",
       "      <td>1222</td>\n",
       "      <td>179</td>\n",
       "      <td>['Identifiable', 'but', 'not', 'identical', 'C...</td>\n",
       "      <td>['identifiable', 'identical', 'combine', 'soci...</td>\n",
       "      <td>['How', 'do', 'consumers', 'reconcile', 'confl...</td>\n",
       "      <td>['consumer', 'reconcile', 'conflicting', 'moti...</td>\n",
       "    </tr>\n",
       "  </tbody>\n",
       "</table>\n",
       "<p>5 rows × 41 columns</p>\n",
       "</div>"
      ],
      "text/plain": [
       "  first_name middle_name  last_name                    email  \\\n",
       "0      Talal         NaN       Asad  talalasad@earthlink.net   \n",
       "1      Talal         NaN       Asad  talalasad@earthlink.net   \n",
       "2      Talal         NaN       Asad  talalasad@earthlink.net   \n",
       "3      Talal         NaN       Asad  talalasad@earthlink.net   \n",
       "4       Leaf         NaN  Van Boven    vanboven@colorado.edu   \n",
       "\n",
       "                              institution  award_year  award_amount  \\\n",
       "0  cuny graduate school university center        2011         19901   \n",
       "1  cuny graduate school university center        2011         19901   \n",
       "2  cuny graduate school university center        2011         19901   \n",
       "3  cuny graduate school university center        2011         19901   \n",
       "4       university of colorado at boulder        2011        250000   \n",
       "\n",
       "                                         paper_title  \\\n",
       "0  Effect of oxidation and geometrical dimensions...   \n",
       "1  Synthesis and biological evaluation of new pyr...   \n",
       "2  Synthesis of 6-Ethyl-1, 2, 9-trioxopyrrolo [3,...   \n",
       "3  Randa M. Al-As’ ada, Mustafa M. El-abadelaha, ...   \n",
       "4  Identifiable but not identical: Combining soci...   \n",
       "\n",
       "                            journal  publication_year  ... citation_2019  \\\n",
       "0                      Desalination              2011  ...            13   \n",
       "1                         Molecules              2014  ...            13   \n",
       "2  Zeitschrift für Naturforschung B              2013  ...            13   \n",
       "3                    Z. Naturforsch              2013  ...            13   \n",
       "4      Journal of Consumer research              2012  ...           868   \n",
       "\n",
       "  citation_2020  citation_2021  citation_2022  citation_2023  citation_2024  \\\n",
       "0             5             10              5              7              1   \n",
       "1             5             10              5              7              1   \n",
       "2             5             10              5              7              1   \n",
       "3             5             10              5              7              1   \n",
       "4          1234           1132           1198           1222            179   \n",
       "\n",
       "                                     tokenized_title  \\\n",
       "0  ['Effect', 'of', 'oxidation', 'and', 'geometri...   \n",
       "1  ['Synthesis', 'and', 'biological', 'evaluation...   \n",
       "2  ['Synthesis', 'of', '6', 'Ethyl-1', '2', '9', ...   \n",
       "3  ['Randa', 'M.', 'Al', 'As', 'ada', 'Mustafa', ...   \n",
       "4  ['Identifiable', 'but', 'not', 'identical', 'C...   \n",
       "\n",
       "                                    normalized_title  \\\n",
       "0  ['effect', 'oxidation', 'geometrical', 'dimens...   \n",
       "1  ['synthesis', 'biological', 'evaluation', 'new...   \n",
       "2  ['synthesis', 'ethyl-1', 'trioxopyrrolo', 'f',...   \n",
       "3  ['randa', 'm.', 'al', 'ada', 'mustafa', 'm.', ...   \n",
       "4  ['identifiable', 'identical', 'combine', 'soci...   \n",
       "\n",
       "                                  tokenized_abstract  \\\n",
       "0  ['This', 'study', 'reports', 'for', 'the', 'fi...   \n",
       "1  ['A', 'selected', 'set', 'of', 'substituted', ...   \n",
       "2  ['Interaction', 'of', '6', 'amino-1', 'ethyl-4...   \n",
       "3  ['Interaction', 'of', '6', 'amino-1', 'ethyl-4...   \n",
       "4  ['How', 'do', 'consumers', 'reconcile', 'confl...   \n",
       "\n",
       "                                 normalized_abstract  \n",
       "0  ['study', 'report', 'time', 'use', 'oxidize', ...  \n",
       "1  ['select', 'set', 'substituted', 'pyridone', '...  \n",
       "2  ['interaction', 'amino-1', 'ethyl-4', 'oxoquin...  \n",
       "3  ['interaction', 'amino-1', 'ethyl-4', 'oxoquin...  \n",
       "4  ['consumer', 'reconcile', 'conflicting', 'moti...  \n",
       "\n",
       "[5 rows x 41 columns]"
      ]
     },
     "execution_count": 3,
     "metadata": {},
     "output_type": "execute_result"
    }
   ],
   "source": [
    "# Read dataframe\n",
    "df = pd.read_csv(\"../database/preprocessed_content_analysis.csv\")\n",
    "df.drop(columns=['Unnamed: 0'], inplace=True)\n",
    "df.head()"
   ]
  },
  {
   "cell_type": "code",
   "execution_count": 4,
   "metadata": {},
   "outputs": [],
   "source": [
    "# Add a column indicating whether the specific publication is before or after NSF award\n",
    "# Here, we take publication year which is the same as award year as \"before_award\"\n",
    "df[\"before_after_award\"] = np.where(df[\"publication_year\"] <= df[\"award_year\"], \"before_award\", \"after_award\")"
   ]
  },
  {
   "cell_type": "markdown",
   "metadata": {},
   "source": [
    "# Examine Collaboration Network"
   ]
  },
  {
   "cell_type": "markdown",
   "metadata": {},
   "source": [
    "## Add collaboration-related information to the DataFrame"
   ]
  },
  {
   "cell_type": "code",
   "execution_count": 5,
   "metadata": {},
   "outputs": [],
   "source": [
    "# Convert the string representation of a list\n",
    "df['coauthors'] = df['coauthors'].apply(ast.literal_eval)\n",
    "\n",
    "# Explode the DataFrame on the 'coauthors' column to get each collaboration on a separate row\n",
    "exploded_df = df.explode('coauthors')\n",
    "\n",
    "# Create tuples of (author's email, coauthor) for each row in the exploded DataFrame\n",
    "collaborations = [(row['email'], coauthor) for _, row in exploded_df.iterrows() for coauthor in [row['coauthors']]]"
   ]
  },
  {
   "cell_type": "code",
   "execution_count": 6,
   "metadata": {},
   "outputs": [],
   "source": [
    "# Create a DataFrame from the collaboration counts\n",
    "collaborations_df = pd.DataFrame({\n",
    "    'email': [email for email, _ in collaborations],\n",
    "    'collaboration': collaborations,\n",
    "})"
   ]
  },
  {
   "cell_type": "code",
   "execution_count": 7,
   "metadata": {},
   "outputs": [
    {
     "data": {
      "text/html": [
       "<div>\n",
       "<style scoped>\n",
       "    .dataframe tbody tr th:only-of-type {\n",
       "        vertical-align: middle;\n",
       "    }\n",
       "\n",
       "    .dataframe tbody tr th {\n",
       "        vertical-align: top;\n",
       "    }\n",
       "\n",
       "    .dataframe thead th {\n",
       "        text-align: right;\n",
       "    }\n",
       "</style>\n",
       "<table border=\"1\" class=\"dataframe\">\n",
       "  <thead>\n",
       "    <tr style=\"text-align: right;\">\n",
       "      <th></th>\n",
       "      <th>email</th>\n",
       "      <th>collaboration</th>\n",
       "    </tr>\n",
       "  </thead>\n",
       "  <tbody>\n",
       "    <tr>\n",
       "      <th>0</th>\n",
       "      <td>talalasad@earthlink.net</td>\n",
       "      <td>(talalasad@earthlink.net, amjad h el-sheikh)</td>\n",
       "    </tr>\n",
       "    <tr>\n",
       "      <th>1</th>\n",
       "      <td>talalasad@earthlink.net</td>\n",
       "      <td>(talalasad@earthlink.net, yahya s al-degs)</td>\n",
       "    </tr>\n",
       "    <tr>\n",
       "      <th>2</th>\n",
       "      <td>talalasad@earthlink.net</td>\n",
       "      <td>(talalasad@earthlink.net, randa m al-as' ad)</td>\n",
       "    </tr>\n",
       "    <tr>\n",
       "      <th>3</th>\n",
       "      <td>talalasad@earthlink.net</td>\n",
       "      <td>(talalasad@earthlink.net, jamal a sweileh)</td>\n",
       "    </tr>\n",
       "    <tr>\n",
       "      <th>4</th>\n",
       "      <td>talalasad@earthlink.net</td>\n",
       "      <td>(talalasad@earthlink.net, ayman m saleh)</td>\n",
       "    </tr>\n",
       "    <tr>\n",
       "      <th>...</th>\n",
       "      <td>...</td>\n",
       "      <td>...</td>\n",
       "    </tr>\n",
       "    <tr>\n",
       "      <th>636340</th>\n",
       "      <td>francis.j.magilligan@dartmouth.edu</td>\n",
       "      <td>(francis.j.magilligan@dartmouth.edu, frank j m...</td>\n",
       "    </tr>\n",
       "    <tr>\n",
       "      <th>636341</th>\n",
       "      <td>francis.j.magilligan@dartmouth.edu</td>\n",
       "      <td>(francis.j.magilligan@dartmouth.edu, carl e re...</td>\n",
       "    </tr>\n",
       "    <tr>\n",
       "      <th>636342</th>\n",
       "      <td>francis.j.magilligan@dartmouth.edu</td>\n",
       "      <td>(francis.j.magilligan@dartmouth.edu, e wohl)</td>\n",
       "    </tr>\n",
       "    <tr>\n",
       "      <th>636343</th>\n",
       "      <td>francis.j.magilligan@dartmouth.edu</td>\n",
       "      <td>(francis.j.magilligan@dartmouth.edu, fj magill...</td>\n",
       "    </tr>\n",
       "    <tr>\n",
       "      <th>636344</th>\n",
       "      <td>francis.j.magilligan@dartmouth.edu</td>\n",
       "      <td>(francis.j.magilligan@dartmouth.edu, sl rathburn)</td>\n",
       "    </tr>\n",
       "  </tbody>\n",
       "</table>\n",
       "<p>636345 rows × 2 columns</p>\n",
       "</div>"
      ],
      "text/plain": [
       "                                     email  \\\n",
       "0                  talalasad@earthlink.net   \n",
       "1                  talalasad@earthlink.net   \n",
       "2                  talalasad@earthlink.net   \n",
       "3                  talalasad@earthlink.net   \n",
       "4                  talalasad@earthlink.net   \n",
       "...                                    ...   \n",
       "636340  francis.j.magilligan@dartmouth.edu   \n",
       "636341  francis.j.magilligan@dartmouth.edu   \n",
       "636342  francis.j.magilligan@dartmouth.edu   \n",
       "636343  francis.j.magilligan@dartmouth.edu   \n",
       "636344  francis.j.magilligan@dartmouth.edu   \n",
       "\n",
       "                                            collaboration  \n",
       "0            (talalasad@earthlink.net, amjad h el-sheikh)  \n",
       "1              (talalasad@earthlink.net, yahya s al-degs)  \n",
       "2            (talalasad@earthlink.net, randa m al-as' ad)  \n",
       "3              (talalasad@earthlink.net, jamal a sweileh)  \n",
       "4                (talalasad@earthlink.net, ayman m saleh)  \n",
       "...                                                   ...  \n",
       "636340  (francis.j.magilligan@dartmouth.edu, frank j m...  \n",
       "636341  (francis.j.magilligan@dartmouth.edu, carl e re...  \n",
       "636342       (francis.j.magilligan@dartmouth.edu, e wohl)  \n",
       "636343  (francis.j.magilligan@dartmouth.edu, fj magill...  \n",
       "636344  (francis.j.magilligan@dartmouth.edu, sl rathburn)  \n",
       "\n",
       "[636345 rows x 2 columns]"
      ]
     },
     "execution_count": 7,
     "metadata": {},
     "output_type": "execute_result"
    }
   ],
   "source": [
    "collaborations_df"
   ]
  },
  {
   "cell_type": "markdown",
   "metadata": {},
   "source": [
    "## Build collaboration network for `before_award` and `right_after_award` periods"
   ]
  },
  {
   "cell_type": "code",
   "execution_count": 8,
   "metadata": {},
   "outputs": [],
   "source": [
    "# Add year related information to the collaborations_df \n",
    "collaborations_df = pd.merge(df[['email', 'publication_year', 'before_after_award']], \n",
    "                             collaborations_df, on='email', how='inner')"
   ]
  },
  {
   "cell_type": "code",
   "execution_count": 9,
   "metadata": {},
   "outputs": [],
   "source": [
    "# Store degree and closeness centrality measures for each year in Pickle (Python's object serialization)\n",
    "yearly_degree_centrality_path = '../database/yearly_degree_centrality.pkl'\n",
    "yearly_closeness_centrality_path = '../database/yearly_closeness_centrality.pkl'\n",
    "\n",
    "if os.path.exists(yearly_degree_centrality_path) and os.path.exists(yearly_closeness_centrality_path):\n",
    "    with open(yearly_degree_centrality_path, 'rb') as f:\n",
    "        yearly_degree_centrality = pickle.load(f)\n",
    "    \n",
    "    with open(yearly_closeness_centrality_path, 'rb') as f:\n",
    "        yearly_closeness_centrality = pickle.load(f)\n",
    "    \n",
    "else:\n",
    "    # Initialize a dictionary to store yearly networks\n",
    "    yearly_networks = {}\n",
    "\n",
    "    for year, group in collaborations_df.groupby('publication_year'):\n",
    "        G_year = nx.Graph()\n",
    "        for _, row in group.iterrows():\n",
    "            author_email, coauthor = row['collaboration']\n",
    "            # Dynamically count the number of collaboration between two authors for each year\n",
    "            if G_year.has_edge(author_email, coauthor):\n",
    "                # If it exists, increment the weight by 1\n",
    "                G_year[author_email][coauthor]['weight'] += 1\n",
    "            else:\n",
    "                # Otherwise, add a new edge with weight 1\n",
    "                G_year.add_edge(author_email, coauthor, weight=1)\n",
    "            \n",
    "        yearly_networks[year] = G_year\n",
    "\n",
    "    # Store degree and closness measures for each year\n",
    "    yearly_degree_centrality = {}\n",
    "    yearly_closeness_centrality = {}\n",
    "\n",
    "    for year, network in yearly_networks.items():\n",
    "        print(f\"Begin deriving degree centrality measures for year {year}\")\n",
    "        yearly_degree_centrality[year] = nx.degree_centrality(network)\n",
    "\n",
    "        print(f\"Begin deriving closeness centrality measures for year {year}\")\n",
    "        yearly_closeness_centrality[year] = nx.closeness_centrality(network)\n",
    "\n",
    "    # Save the centrality measures\n",
    "    with open(yearly_degree_centrality_path, 'wb') as f:\n",
    "        print(\"Save degree centrality measure\")\n",
    "        pickle.dump(yearly_degree_centrality, f)\n",
    "\n",
    "    with open(yearly_closeness_centrality_path, 'wb') as f:\n",
    "        print(\"Save closeness centrality measure\")\n",
    "        pickle.dump(yearly_closeness_centrality, f)"
   ]
  },
  {
   "cell_type": "code",
   "execution_count": 10,
   "metadata": {},
   "outputs": [],
   "source": [
    "grouped_years = collaborations_df.groupby(by=['email', 'before_after_award'])['publication_year'].unique()"
   ]
  },
  {
   "cell_type": "code",
   "execution_count": 11,
   "metadata": {},
   "outputs": [],
   "source": [
    "group_by_centrality = []\n",
    "\n",
    "for (email, before_after_award), years in grouped_years.items():\n",
    "    degree_values = []\n",
    "    closeness_values = []\n",
    "\n",
    "    for year in years:\n",
    "        # Append degree centrality measure for each author (in each year)\n",
    "        if year in yearly_degree_centrality and email in yearly_degree_centrality[year]:\n",
    "            degree_values.append(yearly_degree_centrality[year].get(email, 0))\n",
    "\n",
    "        # Append closeness centrality measure for each author (in each year)\n",
    "        if year in yearly_closeness_centrality and email in yearly_closeness_centrality[year]:\n",
    "            closeness_values.append(yearly_closeness_centrality[year].get(email, 0))\n",
    "\n",
    "    if sum([i != 0 for i in degree_values]) > 0:\n",
    "        average_degree = sum(degree_values) / sum([i != 0 for i in degree_values])\n",
    "    else:\n",
    "        average_degree = 0\n",
    "\n",
    "    if sum([i != 0 for i in degree_values]) > 0:\n",
    "        average_closeness = sum(closeness_values) / sum([i != 0 for i in closeness_values])\n",
    "    else:\n",
    "        average_closeness = 0\n",
    "\n",
    "    # Append to data list\n",
    "    group_by_centrality.append({\n",
    "        'email': email,\n",
    "        'before_after_award': before_after_award,\n",
    "        'average_degree': average_degree,\n",
    "        'average_closeness': average_closeness\n",
    "    })\n",
    "\n",
    "group_by_centrality = pd.DataFrame(group_by_centrality)"
   ]
  },
  {
   "cell_type": "code",
   "execution_count": 12,
   "metadata": {},
   "outputs": [
    {
     "data": {
      "text/html": [
       "<div>\n",
       "<style scoped>\n",
       "    .dataframe tbody tr th:only-of-type {\n",
       "        vertical-align: middle;\n",
       "    }\n",
       "\n",
       "    .dataframe tbody tr th {\n",
       "        vertical-align: top;\n",
       "    }\n",
       "\n",
       "    .dataframe thead th {\n",
       "        text-align: right;\n",
       "    }\n",
       "</style>\n",
       "<table border=\"1\" class=\"dataframe\">\n",
       "  <thead>\n",
       "    <tr style=\"text-align: right;\">\n",
       "      <th></th>\n",
       "      <th>after_award</th>\n",
       "      <th>before_award</th>\n",
       "    </tr>\n",
       "    <tr>\n",
       "      <th>email</th>\n",
       "      <th></th>\n",
       "      <th></th>\n",
       "    </tr>\n",
       "  </thead>\n",
       "  <tbody>\n",
       "    <tr>\n",
       "      <th>00t0holtgrav@bsu.edu</th>\n",
       "      <td>0.000766</td>\n",
       "      <td>0.000756</td>\n",
       "    </tr>\n",
       "    <tr>\n",
       "      <th>a.satpute@northeastern.edu</th>\n",
       "      <td>0.003191</td>\n",
       "      <td>0.000867</td>\n",
       "    </tr>\n",
       "    <tr>\n",
       "      <th>aabrewer@uci.edu</th>\n",
       "      <td>0.000244</td>\n",
       "      <td>0.000378</td>\n",
       "    </tr>\n",
       "    <tr>\n",
       "      <th>aag6@psu.edu</th>\n",
       "      <td>0.000320</td>\n",
       "      <td>0.000579</td>\n",
       "    </tr>\n",
       "    <tr>\n",
       "      <th>aam72@georgetown.edu</th>\n",
       "      <td>0.000522</td>\n",
       "      <td>0.000435</td>\n",
       "    </tr>\n",
       "    <tr>\n",
       "      <th>...</th>\n",
       "      <td>...</td>\n",
       "      <td>...</td>\n",
       "    </tr>\n",
       "    <tr>\n",
       "      <th>zkrizan@iastate.edu</th>\n",
       "      <td>0.000267</td>\n",
       "      <td>0.000307</td>\n",
       "    </tr>\n",
       "    <tr>\n",
       "      <th>zoe.wool@rice.edu</th>\n",
       "      <td>0.000157</td>\n",
       "      <td>0.000111</td>\n",
       "    </tr>\n",
       "    <tr>\n",
       "      <th>zook@uky.edu</th>\n",
       "      <td>0.001188</td>\n",
       "      <td>0.001222</td>\n",
       "    </tr>\n",
       "    <tr>\n",
       "      <th>zulu@msu.edu</th>\n",
       "      <td>0.000463</td>\n",
       "      <td>0.000574</td>\n",
       "    </tr>\n",
       "    <tr>\n",
       "      <th>zygmunt.frajzyngier@colorado.edu</th>\n",
       "      <td>0.000177</td>\n",
       "      <td>0.000275</td>\n",
       "    </tr>\n",
       "  </tbody>\n",
       "</table>\n",
       "<p>2034 rows × 2 columns</p>\n",
       "</div>"
      ],
      "text/plain": [
       "                                  after_award  before_award\n",
       "email                                                      \n",
       "00t0holtgrav@bsu.edu                 0.000766      0.000756\n",
       "a.satpute@northeastern.edu           0.003191      0.000867\n",
       "aabrewer@uci.edu                     0.000244      0.000378\n",
       "aag6@psu.edu                         0.000320      0.000579\n",
       "aam72@georgetown.edu                 0.000522      0.000435\n",
       "...                                       ...           ...\n",
       "zkrizan@iastate.edu                  0.000267      0.000307\n",
       "zoe.wool@rice.edu                    0.000157      0.000111\n",
       "zook@uky.edu                         0.001188      0.001222\n",
       "zulu@msu.edu                         0.000463      0.000574\n",
       "zygmunt.frajzyngier@colorado.edu     0.000177      0.000275\n",
       "\n",
       "[2034 rows x 2 columns]"
      ]
     },
     "execution_count": 12,
     "metadata": {},
     "output_type": "execute_result"
    }
   ],
   "source": [
    "# Convert the dataframe about average_degree from long to wide format\n",
    "average_degree_wide = group_by_centrality.drop('average_closeness', axis=1).pivot(\\\n",
    "    index='email', columns='before_after_award', values='average_degree')\n",
    "average_degree_wide.columns.name = None\n",
    "average_degree_wide"
   ]
  },
  {
   "cell_type": "code",
   "execution_count": 13,
   "metadata": {},
   "outputs": [
    {
     "data": {
      "text/html": [
       "<div>\n",
       "<style scoped>\n",
       "    .dataframe tbody tr th:only-of-type {\n",
       "        vertical-align: middle;\n",
       "    }\n",
       "\n",
       "    .dataframe tbody tr th {\n",
       "        vertical-align: top;\n",
       "    }\n",
       "\n",
       "    .dataframe thead th {\n",
       "        text-align: right;\n",
       "    }\n",
       "</style>\n",
       "<table border=\"1\" class=\"dataframe\">\n",
       "  <thead>\n",
       "    <tr style=\"text-align: right;\">\n",
       "      <th></th>\n",
       "      <th>after_award</th>\n",
       "      <th>before_award</th>\n",
       "    </tr>\n",
       "    <tr>\n",
       "      <th>email</th>\n",
       "      <th></th>\n",
       "      <th></th>\n",
       "    </tr>\n",
       "  </thead>\n",
       "  <tbody>\n",
       "    <tr>\n",
       "      <th>00t0holtgrav@bsu.edu</th>\n",
       "      <td>0.160031</td>\n",
       "      <td>0.152599</td>\n",
       "    </tr>\n",
       "    <tr>\n",
       "      <th>a.satpute@northeastern.edu</th>\n",
       "      <td>0.177090</td>\n",
       "      <td>0.209292</td>\n",
       "    </tr>\n",
       "    <tr>\n",
       "      <th>aabrewer@uci.edu</th>\n",
       "      <td>0.174160</td>\n",
       "      <td>0.157203</td>\n",
       "    </tr>\n",
       "    <tr>\n",
       "      <th>aag6@psu.edu</th>\n",
       "      <td>0.000320</td>\n",
       "      <td>0.000579</td>\n",
       "    </tr>\n",
       "    <tr>\n",
       "      <th>aam72@georgetown.edu</th>\n",
       "      <td>0.192232</td>\n",
       "      <td>0.187448</td>\n",
       "    </tr>\n",
       "    <tr>\n",
       "      <th>...</th>\n",
       "      <td>...</td>\n",
       "      <td>...</td>\n",
       "    </tr>\n",
       "    <tr>\n",
       "      <th>zkrizan@iastate.edu</th>\n",
       "      <td>0.178573</td>\n",
       "      <td>0.177194</td>\n",
       "    </tr>\n",
       "    <tr>\n",
       "      <th>zoe.wool@rice.edu</th>\n",
       "      <td>0.000157</td>\n",
       "      <td>0.105947</td>\n",
       "    </tr>\n",
       "    <tr>\n",
       "      <th>zook@uky.edu</th>\n",
       "      <td>0.179656</td>\n",
       "      <td>0.175523</td>\n",
       "    </tr>\n",
       "    <tr>\n",
       "      <th>zulu@msu.edu</th>\n",
       "      <td>0.178312</td>\n",
       "      <td>0.174606</td>\n",
       "    </tr>\n",
       "    <tr>\n",
       "      <th>zygmunt.frajzyngier@colorado.edu</th>\n",
       "      <td>0.171520</td>\n",
       "      <td>0.158905</td>\n",
       "    </tr>\n",
       "  </tbody>\n",
       "</table>\n",
       "<p>2034 rows × 2 columns</p>\n",
       "</div>"
      ],
      "text/plain": [
       "                                  after_award  before_award\n",
       "email                                                      \n",
       "00t0holtgrav@bsu.edu                 0.160031      0.152599\n",
       "a.satpute@northeastern.edu           0.177090      0.209292\n",
       "aabrewer@uci.edu                     0.174160      0.157203\n",
       "aag6@psu.edu                         0.000320      0.000579\n",
       "aam72@georgetown.edu                 0.192232      0.187448\n",
       "...                                       ...           ...\n",
       "zkrizan@iastate.edu                  0.178573      0.177194\n",
       "zoe.wool@rice.edu                    0.000157      0.105947\n",
       "zook@uky.edu                         0.179656      0.175523\n",
       "zulu@msu.edu                         0.178312      0.174606\n",
       "zygmunt.frajzyngier@colorado.edu     0.171520      0.158905\n",
       "\n",
       "[2034 rows x 2 columns]"
      ]
     },
     "execution_count": 13,
     "metadata": {},
     "output_type": "execute_result"
    }
   ],
   "source": [
    "# Likewise, convert the dataframe about average_closeness from long to wide format\n",
    "average_closeness_wide = group_by_centrality.drop('average_degree', axis=1).pivot(\\\n",
    "    index='email', columns='before_after_award', values='average_closeness')\n",
    "average_closeness_wide.columns.name = None\n",
    "average_closeness_wide"
   ]
  },
  {
   "cell_type": "markdown",
   "metadata": {},
   "source": [
    "## Repeated measure test to test before and right after award difference in degree centrality"
   ]
  },
  {
   "cell_type": "code",
   "execution_count": 14,
   "metadata": {},
   "outputs": [],
   "source": [
    "# Filter out na values\n",
    "average_degree_wide.dropna(inplace=True)"
   ]
  },
  {
   "cell_type": "code",
   "execution_count": 15,
   "metadata": {},
   "outputs": [],
   "source": [
    "# Calculate difference in mean_cosine_distance\n",
    "average_degree_wide['mean_diff'] = average_degree_wide['after_award'] - average_degree_wide['before_award']"
   ]
  },
  {
   "cell_type": "code",
   "execution_count": 16,
   "metadata": {},
   "outputs": [
    {
     "data": {
      "text/plain": [
       "email\n",
       "00t0holtgrav@bsu.edu                0.000011\n",
       "a.satpute@northeastern.edu          0.002324\n",
       "aabrewer@uci.edu                   -0.000134\n",
       "aag6@psu.edu                       -0.000258\n",
       "aam72@georgetown.edu                0.000087\n",
       "                                      ...   \n",
       "zkrizan@iastate.edu                -0.000040\n",
       "zoe.wool@rice.edu                   0.000047\n",
       "zook@uky.edu                       -0.000033\n",
       "zulu@msu.edu                       -0.000111\n",
       "zygmunt.frajzyngier@colorado.edu   -0.000098\n",
       "Name: mean_diff, Length: 1993, dtype: float64"
      ]
     },
     "execution_count": 16,
     "metadata": {},
     "output_type": "execute_result"
    }
   ],
   "source": [
    "average_degree_wide['mean_diff']"
   ]
  },
  {
   "cell_type": "code",
   "execution_count": 17,
   "metadata": {},
   "outputs": [
    {
     "data": {
      "text/plain": [
       "after_award     0.001161\n",
       "before_award    0.001121\n",
       "mean_diff       0.000040\n",
       "dtype: float64"
      ]
     },
     "execution_count": 17,
     "metadata": {},
     "output_type": "execute_result"
    }
   ],
   "source": [
    "average_degree_wide.apply(np.mean, axis=0)"
   ]
  },
  {
   "cell_type": "code",
   "execution_count": 18,
   "metadata": {},
   "outputs": [
    {
     "data": {
      "text/plain": [
       "Text(0.5, 1.0, 'Q-Q Plot of Difference in Entropy of Cosine Distance')"
      ]
     },
     "execution_count": 18,
     "metadata": {},
     "output_type": "execute_result"
    },
    {
     "data": {
      "image/png": "[encoded data removed]",
      "text/plain": [
       "<Figure size 640x480 with 1 Axes>"
      ]
     },
     "metadata": {},
     "output_type": "display_data"
    }
   ],
   "source": [
    "sm.qqplot(average_degree_wide['mean_diff'], line ='45') \n",
    "plt.title('Q-Q Plot of Difference in Entropy of Cosine Distance')"
   ]
  },
  {
   "cell_type": "code",
   "execution_count": 19,
   "metadata": {},
   "outputs": [
    {
     "data": {
      "text/plain": [
       "WilcoxonResult(statistic=952724.0, pvalue=0.1211968700493568)"
      ]
     },
     "execution_count": 19,
     "metadata": {},
     "output_type": "execute_result"
    }
   ],
   "source": [
    "wilcoxon(average_degree_wide['mean_diff'])"
   ]
  },
  {
   "cell_type": "code",
   "execution_count": 21,
   "metadata": {},
   "outputs": [],
   "source": [
    "# Define a function using bootstrapping to calculate confidence interval of mean difference\n",
    "def bootstrap_effect_size(group1, group2, n_bootstrap=10000):\n",
    "    np.random.seed(42)\n",
    "    bootstrapped_means_diff = []\n",
    "\n",
    "    for _ in range(n_bootstrap):\n",
    "        boot_group1 = np.random.choice(group1, size=len(group1), replace=True)\n",
    "        boot_group2 = np.random.choice(group2, size=len(group2), replace=True)\n",
    "        bootstrapped_means_diff.append(boot_group2.mean() - boot_group1.mean())\n",
    "\n",
    "    # Calculate the 95% confidence interval\n",
    "    lower, upper = np.percentile(bootstrapped_means_diff, [2.5, 97.5])\n",
    "    \n",
    "    return np.mean(bootstrapped_means_diff), lower, upper"
   ]
  },
  {
   "cell_type": "code",
   "execution_count": 22,
   "metadata": {},
   "outputs": [
    {
     "name": "stdout",
     "output_type": "stream",
     "text": [
      "Mean Difference (after_award - before_award): 3.918277698752575e-05, 95% CI: [-9.939896866246067e-05, 0.00017193616478637744]\n"
     ]
    }
   ],
   "source": [
    "mean_diff, ci_lower, ci_upper = bootstrap_effect_size(\\\n",
    "    average_degree_wide['before_award'],\n",
    "    average_degree_wide['after_award'])\n",
    "\n",
    "print(f\"Mean Difference (after_award - before_award): {mean_diff}, 95% CI: [{ci_lower}, {ci_upper}]\")"
   ]
  },
  {
   "cell_type": "markdown",
   "metadata": {},
   "source": [
    "## Repeated measure test to test before and right after award difference in closeness centrality"
   ]
  },
  {
   "cell_type": "code",
   "execution_count": 23,
   "metadata": {},
   "outputs": [],
   "source": [
    "# Filter out na values\n",
    "average_closeness_wide.dropna(inplace=True)"
   ]
  },
  {
   "cell_type": "code",
   "execution_count": 24,
   "metadata": {},
   "outputs": [],
   "source": [
    "# Calculate difference in mean_cosine_distance\n",
    "average_closeness_wide['mean_diff'] = average_closeness_wide['after_award'] - average_closeness_wide['before_award']"
   ]
  },
  {
   "cell_type": "code",
   "execution_count": 25,
   "metadata": {},
   "outputs": [
    {
     "data": {
      "text/plain": [
       "after_award     0.168344\n",
       "before_award    0.167566\n",
       "mean_diff       0.000777\n",
       "dtype: float64"
      ]
     },
     "execution_count": 25,
     "metadata": {},
     "output_type": "execute_result"
    }
   ],
   "source": [
    "average_closeness_wide.apply(np.mean, axis=0)"
   ]
  },
  {
   "cell_type": "code",
   "execution_count": 26,
   "metadata": {},
   "outputs": [
    {
     "data": {
      "text/plain": [
       "WilcoxonResult(statistic=815192.0, pvalue=4.968823805141583e-12)"
      ]
     },
     "execution_count": 26,
     "metadata": {},
     "output_type": "execute_result"
    }
   ],
   "source": [
    "wilcoxon(average_closeness_wide['mean_diff'])"
   ]
  },
  {
   "cell_type": "code",
   "execution_count": 27,
   "metadata": {},
   "outputs": [
    {
     "name": "stdout",
     "output_type": "stream",
     "text": [
      "Mean Difference (after_award - before_award): 0.000762184045084453, 95% CI: [-0.002159767249041927, 0.0036988562429706084]\n"
     ]
    }
   ],
   "source": [
    "mean_diff, ci_lower, ci_upper = bootstrap_effect_size(\\\n",
    "    average_closeness_wide['before_award'],\n",
    "    average_closeness_wide['after_award'])\n",
    "\n",
    "print(f\"Mean Difference (after_award - before_award): {mean_diff}, 95% CI: [{ci_lower}, {ci_upper}]\")"
   ]
  }
 ],
 "metadata": {
  "kernelspec": {
   "display_name": "base",
   "language": "python",
   "name": "python3"
  },
  "language_info": {
   "codemirror_mode": {
    "name": "ipython",
    "version": 3
   },
   "file_extension": ".py",
   "mimetype": "text/x-python",
   "name": "python",
   "nbconvert_exporter": "python",
   "pygments_lexer": "ipython3",
   "version": "3.11.4"
  }
 },
 "nbformat": 4,
 "nbformat_minor": 2
}
